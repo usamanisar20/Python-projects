{
  "nbformat": 4,
  "nbformat_minor": 0,
  "metadata": {
    "colab": {
      "name": "ODLAssignment.ipynb",
      "provenance": [],
      "collapsed_sections": [],
      "include_colab_link": true
    },
    "kernelspec": {
      "name": "python3",
      "display_name": "Python 3"
    }
  },
  "cells": [
    {
      "cell_type": "markdown",
      "metadata": {
        "id": "view-in-github",
        "colab_type": "text"
      },
      "source": [
        "<a href=\"https://colab.research.google.com/github/usamanisar20/usamanisar20/blob/main/ODLAssignment.ipynb\" target=\"_parent\"><img src=\"https://colab.research.google.com/assets/colab-badge.svg\" alt=\"Open In Colab\"/></a>"
      ]
    },
    {
      "cell_type": "code",
      "metadata": {
        "id": "bDXg3UFvhDOQ",
        "colab": {
          "base_uri": "https://localhost:8080/"
        },
        "outputId": "56e3c73a-e1fd-4536-f155-6a01d19d00ce"
      },
      "source": [
        "  %tensorflow_version 1.x\n",
        "  import keras\n",
        "  from keras.models import Sequential\n",
        "  from keras.layers import Dense\n",
        "  from keras.wrappers.scikit_learn import KerasClassifier"
      ],
      "execution_count": null,
      "outputs": [
        {
          "output_type": "stream",
          "text": [
            "TensorFlow 1.x selected.\n"
          ],
          "name": "stdout"
        },
        {
          "output_type": "stream",
          "text": [
            "Using TensorFlow backend.\n"
          ],
          "name": "stderr"
        }
      ]
    },
    {
      "cell_type": "code",
      "metadata": {
        "id": "9uewD4puUi5P"
      },
      "source": [
        "import pandas as pd\n",
        "import numpy as np\n",
        "from sklearn.model_selection import train_test_split as tts\n",
        "from sklearn.model_selection import GridSearchCV\n",
        "import matplotlib.pyplot as plt\n",
        "plt.rcParams['figure.figsize'] = (5.0,5.0)"
      ],
      "execution_count": null,
      "outputs": []
    },
    {
      "cell_type": "code",
      "metadata": {
        "colab": {
          "base_uri": "https://localhost:8080/"
        },
        "id": "ichfQ78iVs8w",
        "outputId": "df7de73a-18e3-4da3-d61c-fb8b837c32d0"
      },
      "source": [
        "from google.colab import drive\n",
        "drive.mount('/drive')"
      ],
      "execution_count": null,
      "outputs": [
        {
          "output_type": "stream",
          "text": [
            "Mounted at /drive\n"
          ],
          "name": "stdout"
        }
      ]
    },
    {
      "cell_type": "code",
      "metadata": {
        "id": "LT8Zf0RmVyEu"
      },
      "source": [
        "#Read the data\n",
        "path = '/drive/My Drive/White Wine Quality.csv'\n",
        "df = pd.read_csv(path)\n",
        "df.head()\n",
        "\n",
        "#convert it into pandas dataframe\n",
        "df = pd.DataFrame(df)"
      ],
      "execution_count": null,
      "outputs": []
    },
    {
      "cell_type": "code",
      "metadata": {
        "colab": {
          "base_uri": "https://localhost:8080/",
          "height": 415
        },
        "id": "ifzi18qjV3gN",
        "outputId": "758b3cd9-6a56-4a50-d41b-aa6b62530911"
      },
      "source": [
        "df"
      ],
      "execution_count": null,
      "outputs": [
        {
          "output_type": "execute_result",
          "data": {
            "text/html": [
              "<div>\n",
              "<style scoped>\n",
              "    .dataframe tbody tr th:only-of-type {\n",
              "        vertical-align: middle;\n",
              "    }\n",
              "\n",
              "    .dataframe tbody tr th {\n",
              "        vertical-align: top;\n",
              "    }\n",
              "\n",
              "    .dataframe thead th {\n",
              "        text-align: right;\n",
              "    }\n",
              "</style>\n",
              "<table border=\"1\" class=\"dataframe\">\n",
              "  <thead>\n",
              "    <tr style=\"text-align: right;\">\n",
              "      <th></th>\n",
              "      <th>age</th>\n",
              "      <th>sex</th>\n",
              "      <th>cp</th>\n",
              "      <th>trestbps</th>\n",
              "      <th>chol</th>\n",
              "      <th>fbs</th>\n",
              "      <th>restecg</th>\n",
              "      <th>thalach</th>\n",
              "      <th>exang</th>\n",
              "      <th>oldpeak</th>\n",
              "      <th>slope</th>\n",
              "      <th>ca</th>\n",
              "      <th>thal</th>\n",
              "      <th>target</th>\n",
              "    </tr>\n",
              "  </thead>\n",
              "  <tbody>\n",
              "    <tr>\n",
              "      <th>0</th>\n",
              "      <td>52</td>\n",
              "      <td>1</td>\n",
              "      <td>0</td>\n",
              "      <td>125</td>\n",
              "      <td>212</td>\n",
              "      <td>0</td>\n",
              "      <td>1</td>\n",
              "      <td>168</td>\n",
              "      <td>0</td>\n",
              "      <td>1.0</td>\n",
              "      <td>2</td>\n",
              "      <td>2.0</td>\n",
              "      <td>3.0</td>\n",
              "      <td>0</td>\n",
              "    </tr>\n",
              "    <tr>\n",
              "      <th>1</th>\n",
              "      <td>53</td>\n",
              "      <td>1</td>\n",
              "      <td>0</td>\n",
              "      <td>140</td>\n",
              "      <td>203</td>\n",
              "      <td>1</td>\n",
              "      <td>0</td>\n",
              "      <td>155</td>\n",
              "      <td>1</td>\n",
              "      <td>3.1</td>\n",
              "      <td>0</td>\n",
              "      <td>0.0</td>\n",
              "      <td>3.0</td>\n",
              "      <td>0</td>\n",
              "    </tr>\n",
              "    <tr>\n",
              "      <th>2</th>\n",
              "      <td>70</td>\n",
              "      <td>1</td>\n",
              "      <td>0</td>\n",
              "      <td>145</td>\n",
              "      <td>174</td>\n",
              "      <td>0</td>\n",
              "      <td>1</td>\n",
              "      <td>125</td>\n",
              "      <td>1</td>\n",
              "      <td>2.6</td>\n",
              "      <td>0</td>\n",
              "      <td>0.0</td>\n",
              "      <td>3.0</td>\n",
              "      <td>0</td>\n",
              "    </tr>\n",
              "    <tr>\n",
              "      <th>3</th>\n",
              "      <td>61</td>\n",
              "      <td>1</td>\n",
              "      <td>0</td>\n",
              "      <td>148</td>\n",
              "      <td>203</td>\n",
              "      <td>0</td>\n",
              "      <td>1</td>\n",
              "      <td>161</td>\n",
              "      <td>0</td>\n",
              "      <td>0.0</td>\n",
              "      <td>2</td>\n",
              "      <td>1.0</td>\n",
              "      <td>3.0</td>\n",
              "      <td>0</td>\n",
              "    </tr>\n",
              "    <tr>\n",
              "      <th>4</th>\n",
              "      <td>62</td>\n",
              "      <td>0</td>\n",
              "      <td>0</td>\n",
              "      <td>138</td>\n",
              "      <td>294</td>\n",
              "      <td>1</td>\n",
              "      <td>1</td>\n",
              "      <td>106</td>\n",
              "      <td>0</td>\n",
              "      <td>1.9</td>\n",
              "      <td>1</td>\n",
              "      <td>3.0</td>\n",
              "      <td>2.0</td>\n",
              "      <td>0</td>\n",
              "    </tr>\n",
              "    <tr>\n",
              "      <th>...</th>\n",
              "      <td>...</td>\n",
              "      <td>...</td>\n",
              "      <td>...</td>\n",
              "      <td>...</td>\n",
              "      <td>...</td>\n",
              "      <td>...</td>\n",
              "      <td>...</td>\n",
              "      <td>...</td>\n",
              "      <td>...</td>\n",
              "      <td>...</td>\n",
              "      <td>...</td>\n",
              "      <td>...</td>\n",
              "      <td>...</td>\n",
              "      <td>...</td>\n",
              "    </tr>\n",
              "    <tr>\n",
              "      <th>1020</th>\n",
              "      <td>59</td>\n",
              "      <td>1</td>\n",
              "      <td>1</td>\n",
              "      <td>140</td>\n",
              "      <td>221</td>\n",
              "      <td>0</td>\n",
              "      <td>1</td>\n",
              "      <td>164</td>\n",
              "      <td>1</td>\n",
              "      <td>0.0</td>\n",
              "      <td>2</td>\n",
              "      <td>0.0</td>\n",
              "      <td>2.0</td>\n",
              "      <td>1</td>\n",
              "    </tr>\n",
              "    <tr>\n",
              "      <th>1021</th>\n",
              "      <td>60</td>\n",
              "      <td>1</td>\n",
              "      <td>0</td>\n",
              "      <td>125</td>\n",
              "      <td>258</td>\n",
              "      <td>0</td>\n",
              "      <td>0</td>\n",
              "      <td>141</td>\n",
              "      <td>1</td>\n",
              "      <td>2.8</td>\n",
              "      <td>1</td>\n",
              "      <td>1.0</td>\n",
              "      <td>3.0</td>\n",
              "      <td>0</td>\n",
              "    </tr>\n",
              "    <tr>\n",
              "      <th>1022</th>\n",
              "      <td>47</td>\n",
              "      <td>1</td>\n",
              "      <td>0</td>\n",
              "      <td>110</td>\n",
              "      <td>275</td>\n",
              "      <td>0</td>\n",
              "      <td>0</td>\n",
              "      <td>118</td>\n",
              "      <td>1</td>\n",
              "      <td>1.0</td>\n",
              "      <td>1</td>\n",
              "      <td>1.0</td>\n",
              "      <td>2.0</td>\n",
              "      <td>0</td>\n",
              "    </tr>\n",
              "    <tr>\n",
              "      <th>1023</th>\n",
              "      <td>50</td>\n",
              "      <td>0</td>\n",
              "      <td>0</td>\n",
              "      <td>110</td>\n",
              "      <td>254</td>\n",
              "      <td>0</td>\n",
              "      <td>0</td>\n",
              "      <td>159</td>\n",
              "      <td>0</td>\n",
              "      <td>0.0</td>\n",
              "      <td>2</td>\n",
              "      <td>0.0</td>\n",
              "      <td>2.0</td>\n",
              "      <td>1</td>\n",
              "    </tr>\n",
              "    <tr>\n",
              "      <th>1024</th>\n",
              "      <td>54</td>\n",
              "      <td>1</td>\n",
              "      <td>0</td>\n",
              "      <td>120</td>\n",
              "      <td>188</td>\n",
              "      <td>0</td>\n",
              "      <td>1</td>\n",
              "      <td>113</td>\n",
              "      <td>0</td>\n",
              "      <td>1.4</td>\n",
              "      <td>1</td>\n",
              "      <td>1.0</td>\n",
              "      <td>3.0</td>\n",
              "      <td>0</td>\n",
              "    </tr>\n",
              "  </tbody>\n",
              "</table>\n",
              "<p>968 rows × 14 columns</p>\n",
              "</div>"
            ],
            "text/plain": [
              "      age  sex  cp  trestbps  chol  ...  oldpeak  slope   ca  thal  target\n",
              "0      52    1   0       125   212  ...      1.0      2  2.0   3.0       0\n",
              "1      53    1   0       140   203  ...      3.1      0  0.0   3.0       0\n",
              "2      70    1   0       145   174  ...      2.6      0  0.0   3.0       0\n",
              "3      61    1   0       148   203  ...      0.0      2  1.0   3.0       0\n",
              "4      62    0   0       138   294  ...      1.9      1  3.0   2.0       0\n",
              "...   ...  ...  ..       ...   ...  ...      ...    ...  ...   ...     ...\n",
              "1020   59    1   1       140   221  ...      0.0      2  0.0   2.0       1\n",
              "1021   60    1   0       125   258  ...      2.8      1  1.0   3.0       0\n",
              "1022   47    1   0       110   275  ...      1.0      1  1.0   2.0       0\n",
              "1023   50    0   0       110   254  ...      0.0      2  0.0   2.0       1\n",
              "1024   54    1   0       120   188  ...      1.4      1  1.0   3.0       0\n",
              "\n",
              "[968 rows x 14 columns]"
            ]
          },
          "metadata": {
            "tags": []
          },
          "execution_count": 86
        }
      ]
    },
    {
      "cell_type": "code",
      "metadata": {
        "colab": {
          "base_uri": "https://localhost:8080/",
          "height": 765
        },
        "id": "CypsTPLUUdPb",
        "outputId": "0f8b3215-9b98-485d-f765-ec418a1d1b88"
      },
      "source": [
        "df['ca'].unique()\n",
        "df[df['ca'] == 4]\n",
        "df.loc[df['ca'] == 4, 'ca'] = np.NaN\n",
        "\n",
        "df.thal.value_counts()\n",
        "df.loc[df['thal'] == 0, 'thal'] = np.NaN\n",
        "df[df['thal'] == 0]\n",
        "df['thal'].unique()\n",
        "\n",
        "df.isnull().sum()\n",
        "\n",
        "df = df.fillna(df.median())\n",
        "\n",
        "df.plot(kind = 'box', subplots = True, layout = (2,7),\n",
        "sharex = False, sharey = False, figsize = (20, 10), \n",
        "color = 'blue');\n",
        "        \n",
        "continuous_var = ['age','trestbps','chol','thalach','oldpeak']  \n",
        "def outliers(df_o, drop = False):\n",
        "    for i in df_o.columns: #for each attribute \n",
        "        f_data = df_o[i]\n",
        "        Q1 = np.percentile(f_data, 25.) # 25th percentile\n",
        "        Q3 = np.percentile(f_data, 75.) # 75th percentile\n",
        "        IQR = Q3-Q1 # Interquartile\n",
        "        k = IQR * 1.5\n",
        "        outliers = f_data[~((f_data >= Q1 - k) & (f_data <= Q3 + k))].index.tolist()  \n",
        "        if not drop:\n",
        "            print('{}, there are {} outliers'.format(i, len(outliers)))\n",
        "        if drop:\n",
        "            df.drop(outliers, inplace = True, errors = 'ignore')\n",
        "            print('{} outliers removed'.format(i))\n",
        "\n",
        "outliers(df[continuous_var])\n",
        "\n",
        "outliers(df[continuous_var], drop=True)"
      ],
      "execution_count": null,
      "outputs": [
        {
          "output_type": "stream",
          "text": [
            "age, there are 0 outliers\n",
            "trestbps, there are 30 outliers\n",
            "chol, there are 16 outliers\n",
            "thalach, there are 4 outliers\n",
            "oldpeak, there are 7 outliers\n",
            "age outliers removed\n",
            "trestbps outliers removed\n",
            "chol outliers removed\n",
            "thalach outliers removed\n",
            "oldpeak outliers removed\n"
          ],
          "name": "stdout"
        },
        {
          "output_type": "display_data",
          "data": {
            "image/png": "[encoded data removed]",
            "text/plain": [
              "<Figure size 1440x720 with 14 Axes>"
            ]
          },
          "metadata": {
            "tags": [],
            "needs_background": "light"
          }
        }
      ]
    },
    {
      "cell_type": "code",
      "metadata": {
        "id": "U6w7U8VXWG0C"
      },
      "source": [
        "# Define the Target (dependent variable) and features (independent variables)\n",
        "X = df.drop('target', axis = 1)\n",
        "Y = df['target']"
      ],
      "execution_count": null,
      "outputs": []
    },
    {
      "cell_type": "code",
      "metadata": {
        "colab": {
          "base_uri": "https://localhost:8080/",
          "height": 329
        },
        "id": "-1rXNilGWP7u",
        "outputId": "cae1fa99-fcf0-4bcd-da60-ad534231c6b9"
      },
      "source": [
        "#Find the correlation \n",
        "corr = df.corr()\n",
        "corr.style.background_gradient(cmap = 'coolwarm').set_precision(2)"
      ],
      "execution_count": null,
      "outputs": [
        {
          "output_type": "execute_result",
          "data": {
            "text/html": [
              "<style  type=\"text/css\" >\n",
              "#T_8d74285a_5c69_11eb_9961_0242ac1c0002row0_col0,#T_8d74285a_5c69_11eb_9961_0242ac1c0002row1_col1,#T_8d74285a_5c69_11eb_9961_0242ac1c0002row2_col2,#T_8d74285a_5c69_11eb_9961_0242ac1c0002row3_col3,#T_8d74285a_5c69_11eb_9961_0242ac1c0002row4_col4,#T_8d74285a_5c69_11eb_9961_0242ac1c0002row5_col5,#T_8d74285a_5c69_11eb_9961_0242ac1c0002row6_col6,#T_8d74285a_5c69_11eb_9961_0242ac1c0002row7_col7,#T_8d74285a_5c69_11eb_9961_0242ac1c0002row8_col8,#T_8d74285a_5c69_11eb_9961_0242ac1c0002row9_col9,#T_8d74285a_5c69_11eb_9961_0242ac1c0002row10_col10,#T_8d74285a_5c69_11eb_9961_0242ac1c0002row11_col11,#T_8d74285a_5c69_11eb_9961_0242ac1c0002row12_col12,#T_8d74285a_5c69_11eb_9961_0242ac1c0002row13_col13{\n",
              "            background-color:  #b40426;\n",
              "            color:  #f1f1f1;\n",
              "        }#T_8d74285a_5c69_11eb_9961_0242ac1c0002row0_col1{\n",
              "            background-color:  #7699f6;\n",
              "            color:  #000000;\n",
              "        }#T_8d74285a_5c69_11eb_9961_0242ac1c0002row0_col2,#T_8d74285a_5c69_11eb_9961_0242ac1c0002row1_col0{\n",
              "            background-color:  #88abfd;\n",
              "            color:  #000000;\n",
              "        }#T_8d74285a_5c69_11eb_9961_0242ac1c0002row0_col3,#T_8d74285a_5c69_11eb_9961_0242ac1c0002row10_col2{\n",
              "            background-color:  #b6cefa;\n",
              "            color:  #000000;\n",
              "        }#T_8d74285a_5c69_11eb_9961_0242ac1c0002row0_col4{\n",
              "            background-color:  #98b9ff;\n",
              "            color:  #000000;\n",
              "        }#T_8d74285a_5c69_11eb_9961_0242ac1c0002row0_col5,#T_8d74285a_5c69_11eb_9961_0242ac1c0002row6_col0,#T_8d74285a_5c69_11eb_9961_0242ac1c0002row6_col1{\n",
              "            background-color:  #799cf8;\n",
              "            color:  #000000;\n",
              "        }#T_8d74285a_5c69_11eb_9961_0242ac1c0002row0_col6,#T_8d74285a_5c69_11eb_9961_0242ac1c0002row2_col8,#T_8d74285a_5c69_11eb_9961_0242ac1c0002row7_col8,#T_8d74285a_5c69_11eb_9961_0242ac1c0002row8_col13{\n",
              "            background-color:  #4257c9;\n",
              "            color:  #f1f1f1;\n",
              "        }#T_8d74285a_5c69_11eb_9961_0242ac1c0002row0_col7,#T_8d74285a_5c69_11eb_9961_0242ac1c0002row3_col6,#T_8d74285a_5c69_11eb_9961_0242ac1c0002row6_col3,#T_8d74285a_5c69_11eb_9961_0242ac1c0002row6_col5,#T_8d74285a_5c69_11eb_9961_0242ac1c0002row7_col0,#T_8d74285a_5c69_11eb_9961_0242ac1c0002row8_col2,#T_8d74285a_5c69_11eb_9961_0242ac1c0002row9_col10,#T_8d74285a_5c69_11eb_9961_0242ac1c0002row10_col9,#T_8d74285a_5c69_11eb_9961_0242ac1c0002row11_col13,#T_8d74285a_5c69_11eb_9961_0242ac1c0002row13_col1,#T_8d74285a_5c69_11eb_9961_0242ac1c0002row13_col4,#T_8d74285a_5c69_11eb_9961_0242ac1c0002row13_col8,#T_8d74285a_5c69_11eb_9961_0242ac1c0002row13_col11,#T_8d74285a_5c69_11eb_9961_0242ac1c0002row13_col12{\n",
              "            background-color:  #3b4cc0;\n",
              "            color:  #f1f1f1;\n",
              "        }#T_8d74285a_5c69_11eb_9961_0242ac1c0002row0_col8,#T_8d74285a_5c69_11eb_9961_0242ac1c0002row4_col8,#T_8d74285a_5c69_11eb_9961_0242ac1c0002row9_col1{\n",
              "            background-color:  #b3cdfb;\n",
              "            color:  #000000;\n",
              "        }#T_8d74285a_5c69_11eb_9961_0242ac1c0002row0_col9{\n",
              "            background-color:  #d8dce2;\n",
              "            color:  #000000;\n",
              "        }#T_8d74285a_5c69_11eb_9961_0242ac1c0002row0_col10,#T_8d74285a_5c69_11eb_9961_0242ac1c0002row3_col13,#T_8d74285a_5c69_11eb_9961_0242ac1c0002row5_col3,#T_8d74285a_5c69_11eb_9961_0242ac1c0002row6_col11{\n",
              "            background-color:  #8caffe;\n",
              "            color:  #000000;\n",
              "        }#T_8d74285a_5c69_11eb_9961_0242ac1c0002row0_col11{\n",
              "            background-color:  #efcfbf;\n",
              "            color:  #000000;\n",
              "        }#T_8d74285a_5c69_11eb_9961_0242ac1c0002row0_col12,#T_8d74285a_5c69_11eb_9961_0242ac1c0002row1_col10,#T_8d74285a_5c69_11eb_9961_0242ac1c0002row3_col10,#T_8d74285a_5c69_11eb_9961_0242ac1c0002row5_col10,#T_8d74285a_5c69_11eb_9961_0242ac1c0002row12_col10{\n",
              "            background-color:  #a1c0ff;\n",
              "            color:  #000000;\n",
              "        }#T_8d74285a_5c69_11eb_9961_0242ac1c0002row0_col13,#T_8d74285a_5c69_11eb_9961_0242ac1c0002row2_col5{\n",
              "            background-color:  #6e90f2;\n",
              "            color:  #000000;\n",
              "        }#T_8d74285a_5c69_11eb_9961_0242ac1c0002row1_col2,#T_8d74285a_5c69_11eb_9961_0242ac1c0002row11_col5{\n",
              "            background-color:  #84a7fc;\n",
              "            color:  #000000;\n",
              "        }#T_8d74285a_5c69_11eb_9961_0242ac1c0002row1_col3,#T_8d74285a_5c69_11eb_9961_0242ac1c0002row12_col3{\n",
              "            background-color:  #6485ec;\n",
              "            color:  #000000;\n",
              "        }#T_8d74285a_5c69_11eb_9961_0242ac1c0002row1_col4,#T_8d74285a_5c69_11eb_9961_0242ac1c0002row9_col13{\n",
              "            background-color:  #3e51c5;\n",
              "            color:  #f1f1f1;\n",
              "        }#T_8d74285a_5c69_11eb_9961_0242ac1c0002row1_col5{\n",
              "            background-color:  #6687ed;\n",
              "            color:  #000000;\n",
              "        }#T_8d74285a_5c69_11eb_9961_0242ac1c0002row1_col6,#T_8d74285a_5c69_11eb_9961_0242ac1c0002row10_col3{\n",
              "            background-color:  #536edd;\n",
              "            color:  #000000;\n",
              "        }#T_8d74285a_5c69_11eb_9961_0242ac1c0002row1_col7{\n",
              "            background-color:  #8db0fe;\n",
              "            color:  #000000;\n",
              "        }#T_8d74285a_5c69_11eb_9961_0242ac1c0002row1_col8,#T_8d74285a_5c69_11eb_9961_0242ac1c0002row8_col11,#T_8d74285a_5c69_11eb_9961_0242ac1c0002row8_col12{\n",
              "            background-color:  #c9d7f0;\n",
              "            color:  #000000;\n",
              "        }#T_8d74285a_5c69_11eb_9961_0242ac1c0002row1_col9{\n",
              "            background-color:  #cedaeb;\n",
              "            color:  #000000;\n",
              "        }#T_8d74285a_5c69_11eb_9961_0242ac1c0002row1_col11,#T_8d74285a_5c69_11eb_9961_0242ac1c0002row12_col11{\n",
              "            background-color:  #c1d4f4;\n",
              "            color:  #000000;\n",
              "        }#T_8d74285a_5c69_11eb_9961_0242ac1c0002row1_col12,#T_8d74285a_5c69_11eb_9961_0242ac1c0002row9_col0{\n",
              "            background-color:  #cbd8ee;\n",
              "            color:  #000000;\n",
              "        }#T_8d74285a_5c69_11eb_9961_0242ac1c0002row1_col13,#T_8d74285a_5c69_11eb_9961_0242ac1c0002row9_col5{\n",
              "            background-color:  #5a78e4;\n",
              "            color:  #000000;\n",
              "        }#T_8d74285a_5c69_11eb_9961_0242ac1c0002row2_col0,#T_8d74285a_5c69_11eb_9961_0242ac1c0002row2_col9,#T_8d74285a_5c69_11eb_9961_0242ac1c0002row3_col1,#T_8d74285a_5c69_11eb_9961_0242ac1c0002row9_col3{\n",
              "            background-color:  #89acfd;\n",
              "            color:  #000000;\n",
              "        }#T_8d74285a_5c69_11eb_9961_0242ac1c0002row2_col1,#T_8d74285a_5c69_11eb_9961_0242ac1c0002row8_col10,#T_8d74285a_5c69_11eb_9961_0242ac1c0002row10_col0{\n",
              "            background-color:  #7396f5;\n",
              "            color:  #000000;\n",
              "        }#T_8d74285a_5c69_11eb_9961_0242ac1c0002row2_col3,#T_8d74285a_5c69_11eb_9961_0242ac1c0002row3_col4,#T_8d74285a_5c69_11eb_9961_0242ac1c0002row3_col5,#T_8d74285a_5c69_11eb_9961_0242ac1c0002row10_col6{\n",
              "            background-color:  #7ea1fa;\n",
              "            color:  #000000;\n",
              "        }#T_8d74285a_5c69_11eb_9961_0242ac1c0002row2_col4,#T_8d74285a_5c69_11eb_9961_0242ac1c0002row4_col6{\n",
              "            background-color:  #445acc;\n",
              "            color:  #f1f1f1;\n",
              "        }#T_8d74285a_5c69_11eb_9961_0242ac1c0002row2_col6,#T_8d74285a_5c69_11eb_9961_0242ac1c0002row10_col1{\n",
              "            background-color:  #7a9df8;\n",
              "            color:  #000000;\n",
              "        }#T_8d74285a_5c69_11eb_9961_0242ac1c0002row2_col7,#T_8d74285a_5c69_11eb_9961_0242ac1c0002row7_col2{\n",
              "            background-color:  #dddcdc;\n",
              "            color:  #000000;\n",
              "        }#T_8d74285a_5c69_11eb_9961_0242ac1c0002row2_col10,#T_8d74285a_5c69_11eb_9961_0242ac1c0002row3_col9,#T_8d74285a_5c69_11eb_9961_0242ac1c0002row4_col0,#T_8d74285a_5c69_11eb_9961_0242ac1c0002row4_col11,#T_8d74285a_5c69_11eb_9961_0242ac1c0002row6_col13{\n",
              "            background-color:  #c7d7f0;\n",
              "            color:  #000000;\n",
              "        }#T_8d74285a_5c69_11eb_9961_0242ac1c0002row2_col11{\n",
              "            background-color:  #7093f3;\n",
              "            color:  #000000;\n",
              "        }#T_8d74285a_5c69_11eb_9961_0242ac1c0002row2_col12,#T_8d74285a_5c69_11eb_9961_0242ac1c0002row11_col2{\n",
              "            background-color:  #6282ea;\n",
              "            color:  #000000;\n",
              "        }#T_8d74285a_5c69_11eb_9961_0242ac1c0002row2_col13{\n",
              "            background-color:  #f2c9b4;\n",
              "            color:  #000000;\n",
              "        }#T_8d74285a_5c69_11eb_9961_0242ac1c0002row3_col0{\n",
              "            background-color:  #d7dce3;\n",
              "            color:  #000000;\n",
              "        }#T_8d74285a_5c69_11eb_9961_0242ac1c0002row3_col2{\n",
              "            background-color:  #adc9fd;\n",
              "            color:  #000000;\n",
              "        }#T_8d74285a_5c69_11eb_9961_0242ac1c0002row3_col7{\n",
              "            background-color:  #8badfd;\n",
              "            color:  #000000;\n",
              "        }#T_8d74285a_5c69_11eb_9961_0242ac1c0002row3_col8{\n",
              "            background-color:  #9ebeff;\n",
              "            color:  #000000;\n",
              "        }#T_8d74285a_5c69_11eb_9961_0242ac1c0002row3_col11,#T_8d74285a_5c69_11eb_9961_0242ac1c0002row8_col1{\n",
              "            background-color:  #bad0f8;\n",
              "            color:  #000000;\n",
              "        }#T_8d74285a_5c69_11eb_9961_0242ac1c0002row3_col12{\n",
              "            background-color:  #90b2fe;\n",
              "            color:  #000000;\n",
              "        }#T_8d74285a_5c69_11eb_9961_0242ac1c0002row4_col1{\n",
              "            background-color:  #6b8df0;\n",
              "            color:  #000000;\n",
              "        }#T_8d74285a_5c69_11eb_9961_0242ac1c0002row4_col2,#T_8d74285a_5c69_11eb_9961_0242ac1c0002row7_col6,#T_8d74285a_5c69_11eb_9961_0242ac1c0002row10_col12,#T_8d74285a_5c69_11eb_9961_0242ac1c0002row11_col3{\n",
              "            background-color:  #81a4fb;\n",
              "            color:  #000000;\n",
              "        }#T_8d74285a_5c69_11eb_9961_0242ac1c0002row4_col3,#T_8d74285a_5c69_11eb_9961_0242ac1c0002row4_col13,#T_8d74285a_5c69_11eb_9961_0242ac1c0002row5_col12{\n",
              "            background-color:  #85a8fc;\n",
              "            color:  #000000;\n",
              "        }#T_8d74285a_5c69_11eb_9961_0242ac1c0002row4_col5,#T_8d74285a_5c69_11eb_9961_0242ac1c0002row7_col9,#T_8d74285a_5c69_11eb_9961_0242ac1c0002row8_col5,#T_8d74285a_5c69_11eb_9961_0242ac1c0002row10_col4,#T_8d74285a_5c69_11eb_9961_0242ac1c0002row10_col8{\n",
              "            background-color:  #5f7fe8;\n",
              "            color:  #000000;\n",
              "        }#T_8d74285a_5c69_11eb_9961_0242ac1c0002row4_col7,#T_8d74285a_5c69_11eb_9961_0242ac1c0002row10_col11,#T_8d74285a_5c69_11eb_9961_0242ac1c0002row11_col4{\n",
              "            background-color:  #8fb1fe;\n",
              "            color:  #000000;\n",
              "        }#T_8d74285a_5c69_11eb_9961_0242ac1c0002row4_col9{\n",
              "            background-color:  #b7cff9;\n",
              "            color:  #000000;\n",
              "        }#T_8d74285a_5c69_11eb_9961_0242ac1c0002row4_col10,#T_8d74285a_5c69_11eb_9961_0242ac1c0002row8_col0{\n",
              "            background-color:  #afcafc;\n",
              "            color:  #000000;\n",
              "        }#T_8d74285a_5c69_11eb_9961_0242ac1c0002row4_col12{\n",
              "            background-color:  #a5c3fe;\n",
              "            color:  #000000;\n",
              "        }#T_8d74285a_5c69_11eb_9961_0242ac1c0002row5_col0{\n",
              "            background-color:  #b5cdfa;\n",
              "            color:  #000000;\n",
              "        }#T_8d74285a_5c69_11eb_9961_0242ac1c0002row5_col1{\n",
              "            background-color:  #97b8ff;\n",
              "            color:  #000000;\n",
              "        }#T_8d74285a_5c69_11eb_9961_0242ac1c0002row5_col2,#T_8d74285a_5c69_11eb_9961_0242ac1c0002row11_col1{\n",
              "            background-color:  #abc8fd;\n",
              "            color:  #000000;\n",
              "        }#T_8d74285a_5c69_11eb_9961_0242ac1c0002row5_col4,#T_8d74285a_5c69_11eb_9961_0242ac1c0002row12_col6{\n",
              "            background-color:  #6788ee;\n",
              "            color:  #000000;\n",
              "        }#T_8d74285a_5c69_11eb_9961_0242ac1c0002row5_col6,#T_8d74285a_5c69_11eb_9961_0242ac1c0002row8_col6,#T_8d74285a_5c69_11eb_9961_0242ac1c0002row11_col6,#T_8d74285a_5c69_11eb_9961_0242ac1c0002row13_col3{\n",
              "            background-color:  #4961d2;\n",
              "            color:  #f1f1f1;\n",
              "        }#T_8d74285a_5c69_11eb_9961_0242ac1c0002row5_col7,#T_8d74285a_5c69_11eb_9961_0242ac1c0002row13_col6{\n",
              "            background-color:  #94b6ff;\n",
              "            color:  #000000;\n",
              "        }#T_8d74285a_5c69_11eb_9961_0242ac1c0002row5_col8,#T_8d74285a_5c69_11eb_9961_0242ac1c0002row6_col9{\n",
              "            background-color:  #a6c4fe;\n",
              "            color:  #000000;\n",
              "        }#T_8d74285a_5c69_11eb_9961_0242ac1c0002row5_col9,#T_8d74285a_5c69_11eb_9961_0242ac1c0002row6_col7,#T_8d74285a_5c69_11eb_9961_0242ac1c0002row11_col12{\n",
              "            background-color:  #b1cbfc;\n",
              "            color:  #000000;\n",
              "        }#T_8d74285a_5c69_11eb_9961_0242ac1c0002row5_col11,#T_8d74285a_5c69_11eb_9961_0242ac1c0002row12_col1{\n",
              "            background-color:  #c5d6f2;\n",
              "            color:  #000000;\n",
              "        }#T_8d74285a_5c69_11eb_9961_0242ac1c0002row5_col13{\n",
              "            background-color:  #9dbdff;\n",
              "            color:  #000000;\n",
              "        }#T_8d74285a_5c69_11eb_9961_0242ac1c0002row6_col2{\n",
              "            background-color:  #aac7fd;\n",
              "            color:  #000000;\n",
              "        }#T_8d74285a_5c69_11eb_9961_0242ac1c0002row6_col4{\n",
              "            background-color:  #3d50c3;\n",
              "            color:  #f1f1f1;\n",
              "        }#T_8d74285a_5c69_11eb_9961_0242ac1c0002row6_col8{\n",
              "            background-color:  #86a9fc;\n",
              "            color:  #000000;\n",
              "        }#T_8d74285a_5c69_11eb_9961_0242ac1c0002row6_col10{\n",
              "            background-color:  #c0d4f5;\n",
              "            color:  #000000;\n",
              "        }#T_8d74285a_5c69_11eb_9961_0242ac1c0002row6_col12{\n",
              "            background-color:  #93b5fe;\n",
              "            color:  #000000;\n",
              "        }#T_8d74285a_5c69_11eb_9961_0242ac1c0002row7_col1{\n",
              "            background-color:  #7da0f9;\n",
              "            color:  #000000;\n",
              "        }#T_8d74285a_5c69_11eb_9961_0242ac1c0002row7_col3{\n",
              "            background-color:  #5572df;\n",
              "            color:  #000000;\n",
              "        }#T_8d74285a_5c69_11eb_9961_0242ac1c0002row7_col4,#T_8d74285a_5c69_11eb_9961_0242ac1c0002row12_col13{\n",
              "            background-color:  #516ddb;\n",
              "            color:  #000000;\n",
              "        }#T_8d74285a_5c69_11eb_9961_0242ac1c0002row7_col5{\n",
              "            background-color:  #506bda;\n",
              "            color:  #000000;\n",
              "        }#T_8d74285a_5c69_11eb_9961_0242ac1c0002row7_col10{\n",
              "            background-color:  #f2cbb7;\n",
              "            color:  #000000;\n",
              "        }#T_8d74285a_5c69_11eb_9961_0242ac1c0002row7_col11{\n",
              "            background-color:  #5b7ae5;\n",
              "            color:  #000000;\n",
              "        }#T_8d74285a_5c69_11eb_9961_0242ac1c0002row7_col12,#T_8d74285a_5c69_11eb_9961_0242ac1c0002row9_col2{\n",
              "            background-color:  #6f92f3;\n",
              "            color:  #000000;\n",
              "        }#T_8d74285a_5c69_11eb_9961_0242ac1c0002row7_col13{\n",
              "            background-color:  #f3c8b2;\n",
              "            color:  #000000;\n",
              "        }#T_8d74285a_5c69_11eb_9961_0242ac1c0002row8_col3{\n",
              "            background-color:  #6384eb;\n",
              "            color:  #000000;\n",
              "        }#T_8d74285a_5c69_11eb_9961_0242ac1c0002row8_col4,#T_8d74285a_5c69_11eb_9961_0242ac1c0002row12_col7{\n",
              "            background-color:  #779af7;\n",
              "            color:  #000000;\n",
              "        }#T_8d74285a_5c69_11eb_9961_0242ac1c0002row8_col7{\n",
              "            background-color:  #3c4ec2;\n",
              "            color:  #f1f1f1;\n",
              "        }#T_8d74285a_5c69_11eb_9961_0242ac1c0002row8_col9,#T_8d74285a_5c69_11eb_9961_0242ac1c0002row10_col7,#T_8d74285a_5c69_11eb_9961_0242ac1c0002row13_col10{\n",
              "            background-color:  #ecd3c5;\n",
              "            color:  #000000;\n",
              "        }#T_8d74285a_5c69_11eb_9961_0242ac1c0002row9_col4{\n",
              "            background-color:  #688aef;\n",
              "            color:  #000000;\n",
              "        }#T_8d74285a_5c69_11eb_9961_0242ac1c0002row9_col6{\n",
              "            background-color:  #5977e3;\n",
              "            color:  #000000;\n",
              "        }#T_8d74285a_5c69_11eb_9961_0242ac1c0002row9_col7,#T_8d74285a_5c69_11eb_9961_0242ac1c0002row10_col5{\n",
              "            background-color:  #455cce;\n",
              "            color:  #f1f1f1;\n",
              "        }#T_8d74285a_5c69_11eb_9961_0242ac1c0002row9_col8{\n",
              "            background-color:  #e6d7cf;\n",
              "            color:  #000000;\n",
              "        }#T_8d74285a_5c69_11eb_9961_0242ac1c0002row9_col11{\n",
              "            background-color:  #e2dad5;\n",
              "            color:  #000000;\n",
              "        }#T_8d74285a_5c69_11eb_9961_0242ac1c0002row9_col12{\n",
              "            background-color:  #bbd1f8;\n",
              "            color:  #000000;\n",
              "        }#T_8d74285a_5c69_11eb_9961_0242ac1c0002row10_col13{\n",
              "            background-color:  #e8d6cc;\n",
              "            color:  #000000;\n",
              "        }#T_8d74285a_5c69_11eb_9961_0242ac1c0002row11_col0{\n",
              "            background-color:  #ebd3c6;\n",
              "            color:  #000000;\n",
              "        }#T_8d74285a_5c69_11eb_9961_0242ac1c0002row11_col7{\n",
              "            background-color:  #4e68d8;\n",
              "            color:  #000000;\n",
              "        }#T_8d74285a_5c69_11eb_9961_0242ac1c0002row11_col8{\n",
              "            background-color:  #c4d5f3;\n",
              "            color:  #000000;\n",
              "        }#T_8d74285a_5c69_11eb_9961_0242ac1c0002row11_col9{\n",
              "            background-color:  #e7d7ce;\n",
              "            color:  #000000;\n",
              "        }#T_8d74285a_5c69_11eb_9961_0242ac1c0002row11_col10{\n",
              "            background-color:  #9abbff;\n",
              "            color:  #000000;\n",
              "        }#T_8d74285a_5c69_11eb_9961_0242ac1c0002row12_col0{\n",
              "            background-color:  #a7c5fe;\n",
              "            color:  #000000;\n",
              "        }#T_8d74285a_5c69_11eb_9961_0242ac1c0002row12_col2{\n",
              "            background-color:  #6a8bef;\n",
              "            color:  #000000;\n",
              "        }#T_8d74285a_5c69_11eb_9961_0242ac1c0002row12_col4{\n",
              "            background-color:  #7597f6;\n",
              "            color:  #000000;\n",
              "        }#T_8d74285a_5c69_11eb_9961_0242ac1c0002row12_col5{\n",
              "            background-color:  #4a63d3;\n",
              "            color:  #f1f1f1;\n",
              "        }#T_8d74285a_5c69_11eb_9961_0242ac1c0002row12_col8{\n",
              "            background-color:  #d2dbe8;\n",
              "            color:  #000000;\n",
              "        }#T_8d74285a_5c69_11eb_9961_0242ac1c0002row12_col9{\n",
              "            background-color:  #d1dae9;\n",
              "            color:  #000000;\n",
              "        }#T_8d74285a_5c69_11eb_9961_0242ac1c0002row13_col0{\n",
              "            background-color:  #6180e9;\n",
              "            color:  #000000;\n",
              "        }#T_8d74285a_5c69_11eb_9961_0242ac1c0002row13_col2{\n",
              "            background-color:  #f0cdbb;\n",
              "            color:  #000000;\n",
              "        }#T_8d74285a_5c69_11eb_9961_0242ac1c0002row13_col5{\n",
              "            background-color:  #4c66d6;\n",
              "            color:  #000000;\n",
              "        }#T_8d74285a_5c69_11eb_9961_0242ac1c0002row13_col7{\n",
              "            background-color:  #f1cdba;\n",
              "            color:  #000000;\n",
              "        }#T_8d74285a_5c69_11eb_9961_0242ac1c0002row13_col9{\n",
              "            background-color:  #4b64d5;\n",
              "            color:  #f1f1f1;\n",
              "        }</style><table id=\"T_8d74285a_5c69_11eb_9961_0242ac1c0002\" ><thead>    <tr>        <th class=\"blank level0\" ></th>        <th class=\"col_heading level0 col0\" >age</th>        <th class=\"col_heading level0 col1\" >sex</th>        <th class=\"col_heading level0 col2\" >cp</th>        <th class=\"col_heading level0 col3\" >trestbps</th>        <th class=\"col_heading level0 col4\" >chol</th>        <th class=\"col_heading level0 col5\" >fbs</th>        <th class=\"col_heading level0 col6\" >restecg</th>        <th class=\"col_heading level0 col7\" >thalach</th>        <th class=\"col_heading level0 col8\" >exang</th>        <th class=\"col_heading level0 col9\" >oldpeak</th>        <th class=\"col_heading level0 col10\" >slope</th>        <th class=\"col_heading level0 col11\" >ca</th>        <th class=\"col_heading level0 col12\" >thal</th>        <th class=\"col_heading level0 col13\" >target</th>    </tr></thead><tbody>\n",
              "                <tr>\n",
              "                        <th id=\"T_8d74285a_5c69_11eb_9961_0242ac1c0002level0_row0\" class=\"row_heading level0 row0\" >age</th>\n",
              "                        <td id=\"T_8d74285a_5c69_11eb_9961_0242ac1c0002row0_col0\" class=\"data row0 col0\" >1.00</td>\n",
              "                        <td id=\"T_8d74285a_5c69_11eb_9961_0242ac1c0002row0_col1\" class=\"data row0 col1\" >-0.07</td>\n",
              "                        <td id=\"T_8d74285a_5c69_11eb_9961_0242ac1c0002row0_col2\" class=\"data row0 col2\" >-0.07</td>\n",
              "                        <td id=\"T_8d74285a_5c69_11eb_9961_0242ac1c0002row0_col3\" class=\"data row0 col3\" >0.27</td>\n",
              "                        <td id=\"T_8d74285a_5c69_11eb_9961_0242ac1c0002row0_col4\" class=\"data row0 col4\" >0.19</td>\n",
              "                        <td id=\"T_8d74285a_5c69_11eb_9961_0242ac1c0002row0_col5\" class=\"data row0 col5\" >0.11</td>\n",
              "                        <td id=\"T_8d74285a_5c69_11eb_9961_0242ac1c0002row0_col6\" class=\"data row0 col6\" >-0.13</td>\n",
              "                        <td id=\"T_8d74285a_5c69_11eb_9961_0242ac1c0002row0_col7\" class=\"data row0 col7\" >-0.40</td>\n",
              "                        <td id=\"T_8d74285a_5c69_11eb_9961_0242ac1c0002row0_col8\" class=\"data row0 col8\" >0.09</td>\n",
              "                        <td id=\"T_8d74285a_5c69_11eb_9961_0242ac1c0002row0_col9\" class=\"data row0 col9\" >0.21</td>\n",
              "                        <td id=\"T_8d74285a_5c69_11eb_9961_0242ac1c0002row0_col10\" class=\"data row0 col10\" >-0.16</td>\n",
              "                        <td id=\"T_8d74285a_5c69_11eb_9961_0242ac1c0002row0_col11\" class=\"data row0 col11\" >0.39</td>\n",
              "                        <td id=\"T_8d74285a_5c69_11eb_9961_0242ac1c0002row0_col12\" class=\"data row0 col12\" >0.06</td>\n",
              "                        <td id=\"T_8d74285a_5c69_11eb_9961_0242ac1c0002row0_col13\" class=\"data row0 col13\" >-0.23</td>\n",
              "            </tr>\n",
              "            <tr>\n",
              "                        <th id=\"T_8d74285a_5c69_11eb_9961_0242ac1c0002level0_row1\" class=\"row_heading level0 row1\" >sex</th>\n",
              "                        <td id=\"T_8d74285a_5c69_11eb_9961_0242ac1c0002row1_col0\" class=\"data row1 col0\" >-0.07</td>\n",
              "                        <td id=\"T_8d74285a_5c69_11eb_9961_0242ac1c0002row1_col1\" class=\"data row1 col1\" >1.00</td>\n",
              "                        <td id=\"T_8d74285a_5c69_11eb_9961_0242ac1c0002row1_col2\" class=\"data row1 col2\" >-0.08</td>\n",
              "                        <td id=\"T_8d74285a_5c69_11eb_9961_0242ac1c0002row1_col3\" class=\"data row1 col3\" >-0.01</td>\n",
              "                        <td id=\"T_8d74285a_5c69_11eb_9961_0242ac1c0002row1_col4\" class=\"data row1 col4\" >-0.12</td>\n",
              "                        <td id=\"T_8d74285a_5c69_11eb_9961_0242ac1c0002row1_col5\" class=\"data row1 col5\" >0.05</td>\n",
              "                        <td id=\"T_8d74285a_5c69_11eb_9961_0242ac1c0002row1_col6\" class=\"data row1 col6\" >-0.07</td>\n",
              "                        <td id=\"T_8d74285a_5c69_11eb_9961_0242ac1c0002row1_col7\" class=\"data row1 col7\" >-0.05</td>\n",
              "                        <td id=\"T_8d74285a_5c69_11eb_9961_0242ac1c0002row1_col8\" class=\"data row1 col8\" >0.18</td>\n",
              "                        <td id=\"T_8d74285a_5c69_11eb_9961_0242ac1c0002row1_col9\" class=\"data row1 col9\" >0.15</td>\n",
              "                        <td id=\"T_8d74285a_5c69_11eb_9961_0242ac1c0002row1_col10\" class=\"data row1 col10\" >-0.06</td>\n",
              "                        <td id=\"T_8d74285a_5c69_11eb_9961_0242ac1c0002row1_col11\" class=\"data row1 col11\" >0.12</td>\n",
              "                        <td id=\"T_8d74285a_5c69_11eb_9961_0242ac1c0002row1_col12\" class=\"data row1 col12\" >0.23</td>\n",
              "                        <td id=\"T_8d74285a_5c69_11eb_9961_0242ac1c0002row1_col13\" class=\"data row1 col13\" >-0.32</td>\n",
              "            </tr>\n",
              "            <tr>\n",
              "                        <th id=\"T_8d74285a_5c69_11eb_9961_0242ac1c0002level0_row2\" class=\"row_heading level0 row2\" >cp</th>\n",
              "                        <td id=\"T_8d74285a_5c69_11eb_9961_0242ac1c0002row2_col0\" class=\"data row2 col0\" >-0.07</td>\n",
              "                        <td id=\"T_8d74285a_5c69_11eb_9961_0242ac1c0002row2_col1\" class=\"data row2 col1\" >-0.08</td>\n",
              "                        <td id=\"T_8d74285a_5c69_11eb_9961_0242ac1c0002row2_col2\" class=\"data row2 col2\" >1.00</td>\n",
              "                        <td id=\"T_8d74285a_5c69_11eb_9961_0242ac1c0002row2_col3\" class=\"data row2 col3\" >0.08</td>\n",
              "                        <td id=\"T_8d74285a_5c69_11eb_9961_0242ac1c0002row2_col4\" class=\"data row2 col4\" >-0.10</td>\n",
              "                        <td id=\"T_8d74285a_5c69_11eb_9961_0242ac1c0002row2_col5\" class=\"data row2 col5\" >0.07</td>\n",
              "                        <td id=\"T_8d74285a_5c69_11eb_9961_0242ac1c0002row2_col6\" class=\"data row2 col6\" >0.07</td>\n",
              "                        <td id=\"T_8d74285a_5c69_11eb_9961_0242ac1c0002row2_col7\" class=\"data row2 col7\" >0.30</td>\n",
              "                        <td id=\"T_8d74285a_5c69_11eb_9961_0242ac1c0002row2_col8\" class=\"data row2 col8\" >-0.40</td>\n",
              "                        <td id=\"T_8d74285a_5c69_11eb_9961_0242ac1c0002row2_col9\" class=\"data row2 col9\" >-0.17</td>\n",
              "                        <td id=\"T_8d74285a_5c69_11eb_9961_0242ac1c0002row2_col10\" class=\"data row2 col10\" >0.12</td>\n",
              "                        <td id=\"T_8d74285a_5c69_11eb_9961_0242ac1c0002row2_col11\" class=\"data row2 col11\" >-0.22</td>\n",
              "                        <td id=\"T_8d74285a_5c69_11eb_9961_0242ac1c0002row2_col12\" class=\"data row2 col12\" >-0.18</td>\n",
              "                        <td id=\"T_8d74285a_5c69_11eb_9961_0242ac1c0002row2_col13\" class=\"data row2 col13\" >0.42</td>\n",
              "            </tr>\n",
              "            <tr>\n",
              "                        <th id=\"T_8d74285a_5c69_11eb_9961_0242ac1c0002level0_row3\" class=\"row_heading level0 row3\" >trestbps</th>\n",
              "                        <td id=\"T_8d74285a_5c69_11eb_9961_0242ac1c0002row3_col0\" class=\"data row3 col0\" >0.27</td>\n",
              "                        <td id=\"T_8d74285a_5c69_11eb_9961_0242ac1c0002row3_col1\" class=\"data row3 col1\" >-0.01</td>\n",
              "                        <td id=\"T_8d74285a_5c69_11eb_9961_0242ac1c0002row3_col2\" class=\"data row3 col2\" >0.08</td>\n",
              "                        <td id=\"T_8d74285a_5c69_11eb_9961_0242ac1c0002row3_col3\" class=\"data row3 col3\" >1.00</td>\n",
              "                        <td id=\"T_8d74285a_5c69_11eb_9961_0242ac1c0002row3_col4\" class=\"data row3 col4\" >0.11</td>\n",
              "                        <td id=\"T_8d74285a_5c69_11eb_9961_0242ac1c0002row3_col5\" class=\"data row3 col5\" >0.13</td>\n",
              "                        <td id=\"T_8d74285a_5c69_11eb_9961_0242ac1c0002row3_col6\" class=\"data row3 col6\" >-0.16</td>\n",
              "                        <td id=\"T_8d74285a_5c69_11eb_9961_0242ac1c0002row3_col7\" class=\"data row3 col7\" >-0.06</td>\n",
              "                        <td id=\"T_8d74285a_5c69_11eb_9961_0242ac1c0002row3_col8\" class=\"data row3 col8\" >-0.01</td>\n",
              "                        <td id=\"T_8d74285a_5c69_11eb_9961_0242ac1c0002row3_col9\" class=\"data row3 col9\" >0.12</td>\n",
              "                        <td id=\"T_8d74285a_5c69_11eb_9961_0242ac1c0002row3_col10\" class=\"data row3 col10\" >-0.07</td>\n",
              "                        <td id=\"T_8d74285a_5c69_11eb_9961_0242ac1c0002row3_col11\" class=\"data row3 col11\" >0.09</td>\n",
              "                        <td id=\"T_8d74285a_5c69_11eb_9961_0242ac1c0002row3_col12\" class=\"data row3 col12\" >-0.01</td>\n",
              "                        <td id=\"T_8d74285a_5c69_11eb_9961_0242ac1c0002row3_col13\" class=\"data row3 col13\" >-0.10</td>\n",
              "            </tr>\n",
              "            <tr>\n",
              "                        <th id=\"T_8d74285a_5c69_11eb_9961_0242ac1c0002level0_row4\" class=\"row_heading level0 row4\" >chol</th>\n",
              "                        <td id=\"T_8d74285a_5c69_11eb_9961_0242ac1c0002row4_col0\" class=\"data row4 col0\" >0.19</td>\n",
              "                        <td id=\"T_8d74285a_5c69_11eb_9961_0242ac1c0002row4_col1\" class=\"data row4 col1\" >-0.12</td>\n",
              "                        <td id=\"T_8d74285a_5c69_11eb_9961_0242ac1c0002row4_col2\" class=\"data row4 col2\" >-0.10</td>\n",
              "                        <td id=\"T_8d74285a_5c69_11eb_9961_0242ac1c0002row4_col3\" class=\"data row4 col3\" >0.11</td>\n",
              "                        <td id=\"T_8d74285a_5c69_11eb_9961_0242ac1c0002row4_col4\" class=\"data row4 col4\" >1.00</td>\n",
              "                        <td id=\"T_8d74285a_5c69_11eb_9961_0242ac1c0002row4_col5\" class=\"data row4 col5\" >0.03</td>\n",
              "                        <td id=\"T_8d74285a_5c69_11eb_9961_0242ac1c0002row4_col6\" class=\"data row4 col6\" >-0.12</td>\n",
              "                        <td id=\"T_8d74285a_5c69_11eb_9961_0242ac1c0002row4_col7\" class=\"data row4 col7\" >-0.05</td>\n",
              "                        <td id=\"T_8d74285a_5c69_11eb_9961_0242ac1c0002row4_col8\" class=\"data row4 col8\" >0.08</td>\n",
              "                        <td id=\"T_8d74285a_5c69_11eb_9961_0242ac1c0002row4_col9\" class=\"data row4 col9\" >0.03</td>\n",
              "                        <td id=\"T_8d74285a_5c69_11eb_9961_0242ac1c0002row4_col10\" class=\"data row4 col10\" >0.00</td>\n",
              "                        <td id=\"T_8d74285a_5c69_11eb_9961_0242ac1c0002row4_col11\" class=\"data row4 col11\" >0.16</td>\n",
              "                        <td id=\"T_8d74285a_5c69_11eb_9961_0242ac1c0002row4_col12\" class=\"data row4 col12\" >0.07</td>\n",
              "                        <td id=\"T_8d74285a_5c69_11eb_9961_0242ac1c0002row4_col13\" class=\"data row4 col13\" >-0.13</td>\n",
              "            </tr>\n",
              "            <tr>\n",
              "                        <th id=\"T_8d74285a_5c69_11eb_9961_0242ac1c0002level0_row5\" class=\"row_heading level0 row5\" >fbs</th>\n",
              "                        <td id=\"T_8d74285a_5c69_11eb_9961_0242ac1c0002row5_col0\" class=\"data row5 col0\" >0.11</td>\n",
              "                        <td id=\"T_8d74285a_5c69_11eb_9961_0242ac1c0002row5_col1\" class=\"data row5 col1\" >0.05</td>\n",
              "                        <td id=\"T_8d74285a_5c69_11eb_9961_0242ac1c0002row5_col2\" class=\"data row5 col2\" >0.07</td>\n",
              "                        <td id=\"T_8d74285a_5c69_11eb_9961_0242ac1c0002row5_col3\" class=\"data row5 col3\" >0.13</td>\n",
              "                        <td id=\"T_8d74285a_5c69_11eb_9961_0242ac1c0002row5_col4\" class=\"data row5 col4\" >0.03</td>\n",
              "                        <td id=\"T_8d74285a_5c69_11eb_9961_0242ac1c0002row5_col5\" class=\"data row5 col5\" >1.00</td>\n",
              "                        <td id=\"T_8d74285a_5c69_11eb_9961_0242ac1c0002row5_col6\" class=\"data row5 col6\" >-0.10</td>\n",
              "                        <td id=\"T_8d74285a_5c69_11eb_9961_0242ac1c0002row5_col7\" class=\"data row5 col7\" >-0.02</td>\n",
              "                        <td id=\"T_8d74285a_5c69_11eb_9961_0242ac1c0002row5_col8\" class=\"data row5 col8\" >0.03</td>\n",
              "                        <td id=\"T_8d74285a_5c69_11eb_9961_0242ac1c0002row5_col9\" class=\"data row5 col9\" >0.01</td>\n",
              "                        <td id=\"T_8d74285a_5c69_11eb_9961_0242ac1c0002row5_col10\" class=\"data row5 col10\" >-0.06</td>\n",
              "                        <td id=\"T_8d74285a_5c69_11eb_9961_0242ac1c0002row5_col11\" class=\"data row5 col11\" >0.14</td>\n",
              "                        <td id=\"T_8d74285a_5c69_11eb_9961_0242ac1c0002row5_col12\" class=\"data row5 col12\" >-0.05</td>\n",
              "                        <td id=\"T_8d74285a_5c69_11eb_9961_0242ac1c0002row5_col13\" class=\"data row5 col13\" >-0.04</td>\n",
              "            </tr>\n",
              "            <tr>\n",
              "                        <th id=\"T_8d74285a_5c69_11eb_9961_0242ac1c0002level0_row6\" class=\"row_heading level0 row6\" >restecg</th>\n",
              "                        <td id=\"T_8d74285a_5c69_11eb_9961_0242ac1c0002row6_col0\" class=\"data row6 col0\" >-0.13</td>\n",
              "                        <td id=\"T_8d74285a_5c69_11eb_9961_0242ac1c0002row6_col1\" class=\"data row6 col1\" >-0.07</td>\n",
              "                        <td id=\"T_8d74285a_5c69_11eb_9961_0242ac1c0002row6_col2\" class=\"data row6 col2\" >0.07</td>\n",
              "                        <td id=\"T_8d74285a_5c69_11eb_9961_0242ac1c0002row6_col3\" class=\"data row6 col3\" >-0.16</td>\n",
              "                        <td id=\"T_8d74285a_5c69_11eb_9961_0242ac1c0002row6_col4\" class=\"data row6 col4\" >-0.12</td>\n",
              "                        <td id=\"T_8d74285a_5c69_11eb_9961_0242ac1c0002row6_col5\" class=\"data row6 col5\" >-0.10</td>\n",
              "                        <td id=\"T_8d74285a_5c69_11eb_9961_0242ac1c0002row6_col6\" class=\"data row6 col6\" >1.00</td>\n",
              "                        <td id=\"T_8d74285a_5c69_11eb_9961_0242ac1c0002row6_col7\" class=\"data row6 col7\" >0.09</td>\n",
              "                        <td id=\"T_8d74285a_5c69_11eb_9961_0242ac1c0002row6_col8\" class=\"data row6 col8\" >-0.10</td>\n",
              "                        <td id=\"T_8d74285a_5c69_11eb_9961_0242ac1c0002row6_col9\" class=\"data row6 col9\" >-0.04</td>\n",
              "                        <td id=\"T_8d74285a_5c69_11eb_9961_0242ac1c0002row6_col10\" class=\"data row6 col10\" >0.08</td>\n",
              "                        <td id=\"T_8d74285a_5c69_11eb_9961_0242ac1c0002row6_col11\" class=\"data row6 col11\" >-0.10</td>\n",
              "                        <td id=\"T_8d74285a_5c69_11eb_9961_0242ac1c0002row6_col12\" class=\"data row6 col12\" >0.01</td>\n",
              "                        <td id=\"T_8d74285a_5c69_11eb_9961_0242ac1c0002row6_col13\" class=\"data row6 col13\" >0.16</td>\n",
              "            </tr>\n",
              "            <tr>\n",
              "                        <th id=\"T_8d74285a_5c69_11eb_9961_0242ac1c0002level0_row7\" class=\"row_heading level0 row7\" >thalach</th>\n",
              "                        <td id=\"T_8d74285a_5c69_11eb_9961_0242ac1c0002row7_col0\" class=\"data row7 col0\" >-0.40</td>\n",
              "                        <td id=\"T_8d74285a_5c69_11eb_9961_0242ac1c0002row7_col1\" class=\"data row7 col1\" >-0.05</td>\n",
              "                        <td id=\"T_8d74285a_5c69_11eb_9961_0242ac1c0002row7_col2\" class=\"data row7 col2\" >0.30</td>\n",
              "                        <td id=\"T_8d74285a_5c69_11eb_9961_0242ac1c0002row7_col3\" class=\"data row7 col3\" >-0.06</td>\n",
              "                        <td id=\"T_8d74285a_5c69_11eb_9961_0242ac1c0002row7_col4\" class=\"data row7 col4\" >-0.05</td>\n",
              "                        <td id=\"T_8d74285a_5c69_11eb_9961_0242ac1c0002row7_col5\" class=\"data row7 col5\" >-0.02</td>\n",
              "                        <td id=\"T_8d74285a_5c69_11eb_9961_0242ac1c0002row7_col6\" class=\"data row7 col6\" >0.09</td>\n",
              "                        <td id=\"T_8d74285a_5c69_11eb_9961_0242ac1c0002row7_col7\" class=\"data row7 col7\" >1.00</td>\n",
              "                        <td id=\"T_8d74285a_5c69_11eb_9961_0242ac1c0002row7_col8\" class=\"data row7 col8\" >-0.39</td>\n",
              "                        <td id=\"T_8d74285a_5c69_11eb_9961_0242ac1c0002row7_col9\" class=\"data row7 col9\" >-0.35</td>\n",
              "                        <td id=\"T_8d74285a_5c69_11eb_9961_0242ac1c0002row7_col10\" class=\"data row7 col10\" >0.39</td>\n",
              "                        <td id=\"T_8d74285a_5c69_11eb_9961_0242ac1c0002row7_col11\" class=\"data row7 col11\" >-0.31</td>\n",
              "                        <td id=\"T_8d74285a_5c69_11eb_9961_0242ac1c0002row7_col12\" class=\"data row7 col12\" >-0.13</td>\n",
              "                        <td id=\"T_8d74285a_5c69_11eb_9961_0242ac1c0002row7_col13\" class=\"data row7 col13\" >0.43</td>\n",
              "            </tr>\n",
              "            <tr>\n",
              "                        <th id=\"T_8d74285a_5c69_11eb_9961_0242ac1c0002level0_row8\" class=\"row_heading level0 row8\" >exang</th>\n",
              "                        <td id=\"T_8d74285a_5c69_11eb_9961_0242ac1c0002row8_col0\" class=\"data row8 col0\" >0.09</td>\n",
              "                        <td id=\"T_8d74285a_5c69_11eb_9961_0242ac1c0002row8_col1\" class=\"data row8 col1\" >0.18</td>\n",
              "                        <td id=\"T_8d74285a_5c69_11eb_9961_0242ac1c0002row8_col2\" class=\"data row8 col2\" >-0.40</td>\n",
              "                        <td id=\"T_8d74285a_5c69_11eb_9961_0242ac1c0002row8_col3\" class=\"data row8 col3\" >-0.01</td>\n",
              "                        <td id=\"T_8d74285a_5c69_11eb_9961_0242ac1c0002row8_col4\" class=\"data row8 col4\" >0.08</td>\n",
              "                        <td id=\"T_8d74285a_5c69_11eb_9961_0242ac1c0002row8_col5\" class=\"data row8 col5\" >0.03</td>\n",
              "                        <td id=\"T_8d74285a_5c69_11eb_9961_0242ac1c0002row8_col6\" class=\"data row8 col6\" >-0.10</td>\n",
              "                        <td id=\"T_8d74285a_5c69_11eb_9961_0242ac1c0002row8_col7\" class=\"data row8 col7\" >-0.39</td>\n",
              "                        <td id=\"T_8d74285a_5c69_11eb_9961_0242ac1c0002row8_col8\" class=\"data row8 col8\" >1.00</td>\n",
              "                        <td id=\"T_8d74285a_5c69_11eb_9961_0242ac1c0002row8_col9\" class=\"data row8 col9\" >0.33</td>\n",
              "                        <td id=\"T_8d74285a_5c69_11eb_9961_0242ac1c0002row8_col10\" class=\"data row8 col10\" >-0.26</td>\n",
              "                        <td id=\"T_8d74285a_5c69_11eb_9961_0242ac1c0002row8_col11\" class=\"data row8 col11\" >0.16</td>\n",
              "                        <td id=\"T_8d74285a_5c69_11eb_9961_0242ac1c0002row8_col12\" class=\"data row8 col12\" >0.22</td>\n",
              "                        <td id=\"T_8d74285a_5c69_11eb_9961_0242ac1c0002row8_col13\" class=\"data row8 col13\" >-0.43</td>\n",
              "            </tr>\n",
              "            <tr>\n",
              "                        <th id=\"T_8d74285a_5c69_11eb_9961_0242ac1c0002level0_row9\" class=\"row_heading level0 row9\" >oldpeak</th>\n",
              "                        <td id=\"T_8d74285a_5c69_11eb_9961_0242ac1c0002row9_col0\" class=\"data row9 col0\" >0.21</td>\n",
              "                        <td id=\"T_8d74285a_5c69_11eb_9961_0242ac1c0002row9_col1\" class=\"data row9 col1\" >0.15</td>\n",
              "                        <td id=\"T_8d74285a_5c69_11eb_9961_0242ac1c0002row9_col2\" class=\"data row9 col2\" >-0.17</td>\n",
              "                        <td id=\"T_8d74285a_5c69_11eb_9961_0242ac1c0002row9_col3\" class=\"data row9 col3\" >0.12</td>\n",
              "                        <td id=\"T_8d74285a_5c69_11eb_9961_0242ac1c0002row9_col4\" class=\"data row9 col4\" >0.03</td>\n",
              "                        <td id=\"T_8d74285a_5c69_11eb_9961_0242ac1c0002row9_col5\" class=\"data row9 col5\" >0.01</td>\n",
              "                        <td id=\"T_8d74285a_5c69_11eb_9961_0242ac1c0002row9_col6\" class=\"data row9 col6\" >-0.04</td>\n",
              "                        <td id=\"T_8d74285a_5c69_11eb_9961_0242ac1c0002row9_col7\" class=\"data row9 col7\" >-0.35</td>\n",
              "                        <td id=\"T_8d74285a_5c69_11eb_9961_0242ac1c0002row9_col8\" class=\"data row9 col8\" >0.33</td>\n",
              "                        <td id=\"T_8d74285a_5c69_11eb_9961_0242ac1c0002row9_col9\" class=\"data row9 col9\" >1.00</td>\n",
              "                        <td id=\"T_8d74285a_5c69_11eb_9961_0242ac1c0002row9_col10\" class=\"data row9 col10\" >-0.53</td>\n",
              "                        <td id=\"T_8d74285a_5c69_11eb_9961_0242ac1c0002row9_col11\" class=\"data row9 col11\" >0.30</td>\n",
              "                        <td id=\"T_8d74285a_5c69_11eb_9961_0242ac1c0002row9_col12\" class=\"data row9 col12\" >0.16</td>\n",
              "                        <td id=\"T_8d74285a_5c69_11eb_9961_0242ac1c0002row9_col13\" class=\"data row9 col13\" >-0.45</td>\n",
              "            </tr>\n",
              "            <tr>\n",
              "                        <th id=\"T_8d74285a_5c69_11eb_9961_0242ac1c0002level0_row10\" class=\"row_heading level0 row10\" >slope</th>\n",
              "                        <td id=\"T_8d74285a_5c69_11eb_9961_0242ac1c0002row10_col0\" class=\"data row10 col0\" >-0.16</td>\n",
              "                        <td id=\"T_8d74285a_5c69_11eb_9961_0242ac1c0002row10_col1\" class=\"data row10 col1\" >-0.06</td>\n",
              "                        <td id=\"T_8d74285a_5c69_11eb_9961_0242ac1c0002row10_col2\" class=\"data row10 col2\" >0.12</td>\n",
              "                        <td id=\"T_8d74285a_5c69_11eb_9961_0242ac1c0002row10_col3\" class=\"data row10 col3\" >-0.07</td>\n",
              "                        <td id=\"T_8d74285a_5c69_11eb_9961_0242ac1c0002row10_col4\" class=\"data row10 col4\" >0.00</td>\n",
              "                        <td id=\"T_8d74285a_5c69_11eb_9961_0242ac1c0002row10_col5\" class=\"data row10 col5\" >-0.06</td>\n",
              "                        <td id=\"T_8d74285a_5c69_11eb_9961_0242ac1c0002row10_col6\" class=\"data row10 col6\" >0.08</td>\n",
              "                        <td id=\"T_8d74285a_5c69_11eb_9961_0242ac1c0002row10_col7\" class=\"data row10 col7\" >0.39</td>\n",
              "                        <td id=\"T_8d74285a_5c69_11eb_9961_0242ac1c0002row10_col8\" class=\"data row10 col8\" >-0.26</td>\n",
              "                        <td id=\"T_8d74285a_5c69_11eb_9961_0242ac1c0002row10_col9\" class=\"data row10 col9\" >-0.53</td>\n",
              "                        <td id=\"T_8d74285a_5c69_11eb_9961_0242ac1c0002row10_col10\" class=\"data row10 col10\" >1.00</td>\n",
              "                        <td id=\"T_8d74285a_5c69_11eb_9961_0242ac1c0002row10_col11\" class=\"data row10 col11\" >-0.09</td>\n",
              "                        <td id=\"T_8d74285a_5c69_11eb_9961_0242ac1c0002row10_col12\" class=\"data row10 col12\" >-0.06</td>\n",
              "                        <td id=\"T_8d74285a_5c69_11eb_9961_0242ac1c0002row10_col13\" class=\"data row10 col13\" >0.33</td>\n",
              "            </tr>\n",
              "            <tr>\n",
              "                        <th id=\"T_8d74285a_5c69_11eb_9961_0242ac1c0002level0_row11\" class=\"row_heading level0 row11\" >ca</th>\n",
              "                        <td id=\"T_8d74285a_5c69_11eb_9961_0242ac1c0002row11_col0\" class=\"data row11 col0\" >0.39</td>\n",
              "                        <td id=\"T_8d74285a_5c69_11eb_9961_0242ac1c0002row11_col1\" class=\"data row11 col1\" >0.12</td>\n",
              "                        <td id=\"T_8d74285a_5c69_11eb_9961_0242ac1c0002row11_col2\" class=\"data row11 col2\" >-0.22</td>\n",
              "                        <td id=\"T_8d74285a_5c69_11eb_9961_0242ac1c0002row11_col3\" class=\"data row11 col3\" >0.09</td>\n",
              "                        <td id=\"T_8d74285a_5c69_11eb_9961_0242ac1c0002row11_col4\" class=\"data row11 col4\" >0.16</td>\n",
              "                        <td id=\"T_8d74285a_5c69_11eb_9961_0242ac1c0002row11_col5\" class=\"data row11 col5\" >0.14</td>\n",
              "                        <td id=\"T_8d74285a_5c69_11eb_9961_0242ac1c0002row11_col6\" class=\"data row11 col6\" >-0.10</td>\n",
              "                        <td id=\"T_8d74285a_5c69_11eb_9961_0242ac1c0002row11_col7\" class=\"data row11 col7\" >-0.31</td>\n",
              "                        <td id=\"T_8d74285a_5c69_11eb_9961_0242ac1c0002row11_col8\" class=\"data row11 col8\" >0.16</td>\n",
              "                        <td id=\"T_8d74285a_5c69_11eb_9961_0242ac1c0002row11_col9\" class=\"data row11 col9\" >0.30</td>\n",
              "                        <td id=\"T_8d74285a_5c69_11eb_9961_0242ac1c0002row11_col10\" class=\"data row11 col10\" >-0.09</td>\n",
              "                        <td id=\"T_8d74285a_5c69_11eb_9961_0242ac1c0002row11_col11\" class=\"data row11 col11\" >1.00</td>\n",
              "                        <td id=\"T_8d74285a_5c69_11eb_9961_0242ac1c0002row11_col12\" class=\"data row11 col12\" >0.12</td>\n",
              "                        <td id=\"T_8d74285a_5c69_11eb_9961_0242ac1c0002row11_col13\" class=\"data row11 col13\" >-0.47</td>\n",
              "            </tr>\n",
              "            <tr>\n",
              "                        <th id=\"T_8d74285a_5c69_11eb_9961_0242ac1c0002level0_row12\" class=\"row_heading level0 row12\" >thal</th>\n",
              "                        <td id=\"T_8d74285a_5c69_11eb_9961_0242ac1c0002row12_col0\" class=\"data row12 col0\" >0.06</td>\n",
              "                        <td id=\"T_8d74285a_5c69_11eb_9961_0242ac1c0002row12_col1\" class=\"data row12 col1\" >0.23</td>\n",
              "                        <td id=\"T_8d74285a_5c69_11eb_9961_0242ac1c0002row12_col2\" class=\"data row12 col2\" >-0.18</td>\n",
              "                        <td id=\"T_8d74285a_5c69_11eb_9961_0242ac1c0002row12_col3\" class=\"data row12 col3\" >-0.01</td>\n",
              "                        <td id=\"T_8d74285a_5c69_11eb_9961_0242ac1c0002row12_col4\" class=\"data row12 col4\" >0.07</td>\n",
              "                        <td id=\"T_8d74285a_5c69_11eb_9961_0242ac1c0002row12_col5\" class=\"data row12 col5\" >-0.05</td>\n",
              "                        <td id=\"T_8d74285a_5c69_11eb_9961_0242ac1c0002row12_col6\" class=\"data row12 col6\" >0.01</td>\n",
              "                        <td id=\"T_8d74285a_5c69_11eb_9961_0242ac1c0002row12_col7\" class=\"data row12 col7\" >-0.13</td>\n",
              "                        <td id=\"T_8d74285a_5c69_11eb_9961_0242ac1c0002row12_col8\" class=\"data row12 col8\" >0.22</td>\n",
              "                        <td id=\"T_8d74285a_5c69_11eb_9961_0242ac1c0002row12_col9\" class=\"data row12 col9\" >0.16</td>\n",
              "                        <td id=\"T_8d74285a_5c69_11eb_9961_0242ac1c0002row12_col10\" class=\"data row12 col10\" >-0.06</td>\n",
              "                        <td id=\"T_8d74285a_5c69_11eb_9961_0242ac1c0002row12_col11\" class=\"data row12 col11\" >0.12</td>\n",
              "                        <td id=\"T_8d74285a_5c69_11eb_9961_0242ac1c0002row12_col12\" class=\"data row12 col12\" >1.00</td>\n",
              "                        <td id=\"T_8d74285a_5c69_11eb_9961_0242ac1c0002row12_col13\" class=\"data row12 col13\" >-0.36</td>\n",
              "            </tr>\n",
              "            <tr>\n",
              "                        <th id=\"T_8d74285a_5c69_11eb_9961_0242ac1c0002level0_row13\" class=\"row_heading level0 row13\" >target</th>\n",
              "                        <td id=\"T_8d74285a_5c69_11eb_9961_0242ac1c0002row13_col0\" class=\"data row13 col0\" >-0.23</td>\n",
              "                        <td id=\"T_8d74285a_5c69_11eb_9961_0242ac1c0002row13_col1\" class=\"data row13 col1\" >-0.32</td>\n",
              "                        <td id=\"T_8d74285a_5c69_11eb_9961_0242ac1c0002row13_col2\" class=\"data row13 col2\" >0.42</td>\n",
              "                        <td id=\"T_8d74285a_5c69_11eb_9961_0242ac1c0002row13_col3\" class=\"data row13 col3\" >-0.10</td>\n",
              "                        <td id=\"T_8d74285a_5c69_11eb_9961_0242ac1c0002row13_col4\" class=\"data row13 col4\" >-0.13</td>\n",
              "                        <td id=\"T_8d74285a_5c69_11eb_9961_0242ac1c0002row13_col5\" class=\"data row13 col5\" >-0.04</td>\n",
              "                        <td id=\"T_8d74285a_5c69_11eb_9961_0242ac1c0002row13_col6\" class=\"data row13 col6\" >0.16</td>\n",
              "                        <td id=\"T_8d74285a_5c69_11eb_9961_0242ac1c0002row13_col7\" class=\"data row13 col7\" >0.43</td>\n",
              "                        <td id=\"T_8d74285a_5c69_11eb_9961_0242ac1c0002row13_col8\" class=\"data row13 col8\" >-0.43</td>\n",
              "                        <td id=\"T_8d74285a_5c69_11eb_9961_0242ac1c0002row13_col9\" class=\"data row13 col9\" >-0.45</td>\n",
              "                        <td id=\"T_8d74285a_5c69_11eb_9961_0242ac1c0002row13_col10\" class=\"data row13 col10\" >0.33</td>\n",
              "                        <td id=\"T_8d74285a_5c69_11eb_9961_0242ac1c0002row13_col11\" class=\"data row13 col11\" >-0.47</td>\n",
              "                        <td id=\"T_8d74285a_5c69_11eb_9961_0242ac1c0002row13_col12\" class=\"data row13 col12\" >-0.36</td>\n",
              "                        <td id=\"T_8d74285a_5c69_11eb_9961_0242ac1c0002row13_col13\" class=\"data row13 col13\" >1.00</td>\n",
              "            </tr>\n",
              "    </tbody></table>"
            ],
            "text/plain": [
              "<pandas.io.formats.style.Styler at 0x7f1768446b00>"
            ]
          },
          "metadata": {
            "tags": []
          },
          "execution_count": 8
        }
      ]
    },
    {
      "cell_type": "code",
      "metadata": {
        "colab": {
          "base_uri": "https://localhost:8080/"
        },
        "id": "Oxpod874Y0N3",
        "outputId": "8c3afab3-3d74-4479-9fb4-b369f66704a4"
      },
      "source": [
        "#Split data into train and test\n",
        "import scipy.stats\n",
        "from keras.utils import to_categorical\n",
        "X = df.drop(['target', 'chol', 'fbs','trestbps', 'restecg'], axis = 1)\n",
        "Y = df['target']\n",
        "Y = to_categorical(Y)\n",
        "X_train, X_test, Y_train, Y_test = tts(X, Y, test_size = 0.20, random_state = 5)\n",
        "print(X_train.shape)\n",
        "print(X_test.shape)\n",
        "print(Y_train.shape)\n",
        "print(Y_test.shape)"
      ],
      "execution_count": null,
      "outputs": [
        {
          "output_type": "stream",
          "text": [
            "(774, 9)\n",
            "(194, 9)\n",
            "(774, 2)\n",
            "(194, 2)\n"
          ],
          "name": "stdout"
        }
      ]
    },
    {
      "cell_type": "code",
      "metadata": {
        "id": "K_yrG4xbZCLd"
      },
      "source": [
        "#Define model\n",
        "def create_model(hidden_layer, hidden_activation, output_activation):\n",
        "  model = Sequential()\n",
        "  model.add(Dense(hidden_layer,input_dim = 9,activation = hidden_activation))\n",
        "  model.add(Dense(2,activation = output_activation))\n",
        "  model.compile(optimizer = 'adam',loss = 'categorical_crossentropy', metrics = ['accuracy'])\n",
        "  return model"
      ],
      "execution_count": null,
      "outputs": []
    },
    {
      "cell_type": "code",
      "metadata": {
        "id": "VXqdSEMZXRc7"
      },
      "source": [
        "estimator_model = KerasClassifier(build_fn = create_model, epochs = 10, batch_size = 10, verbose = 0)"
      ],
      "execution_count": null,
      "outputs": []
    },
    {
      "cell_type": "code",
      "metadata": {
        "colab": {
          "base_uri": "https://localhost:8080/"
        },
        "id": "a-d1OVd-XzR3",
        "outputId": "8f5e713b-909c-404a-f8ad-47ca710bb1dc"
      },
      "source": [
        "params = {\n",
        "    'hidden_layer' : [100, 150, 200, 250],\n",
        "    'hidden_activation' : ['relu', 'softmax', 'sigmoid'],\n",
        "    'output_activation' : ['relu', 'softmax', 'sigmoid']\n",
        "}\n",
        "\n",
        "grid = GridSearchCV(estimator = estimator_model, param_grid = params, n_jobs = -1, cv = 3)\n",
        "best_grid = grid.fit(X_test, Y_test)"
      ],
      "execution_count": null,
      "outputs": [
        {
          "output_type": "stream",
          "text": [
            "/usr/local/lib/python3.6/dist-packages/joblib/externals/loky/process_executor.py:691: UserWarning: A worker stopped while some jobs were given to the executor. This can be caused by a too short worker timeout or by a memory leak.\n",
            "  \"timeout or by a memory leak.\", UserWarning\n"
          ],
          "name": "stderr"
        }
      ]
    },
    {
      "cell_type": "code",
      "metadata": {
        "id": "jizU-4eiafD9",
        "colab": {
          "base_uri": "https://localhost:8080/"
        },
        "outputId": "a574d3c4-89bc-4b47-92ce-7988e2fc5720"
      },
      "source": [
        "best_grid.best_params_"
      ],
      "execution_count": null,
      "outputs": [
        {
          "output_type": "execute_result",
          "data": {
            "text/plain": [
              "{'hidden_activation': 'relu',\n",
              " 'hidden_layer': 100,\n",
              " 'output_activation': 'softmax'}"
            ]
          },
          "metadata": {
            "tags": []
          },
          "execution_count": 53
        }
      ]
    },
    {
      "cell_type": "code",
      "metadata": {
        "id": "lAUz1tTacf_L"
      },
      "source": [
        "model = Sequential()\n",
        "model.add(Dense(100,input_dim = 9,activation = 'relu'))\n",
        "model.add(Dense(2,activation = 'softmax'))\n",
        "model.compile(optimizer = 'adam',loss = 'categorical_crossentropy', metrics = ['accuracy'])"
      ],
      "execution_count": null,
      "outputs": []
    },
    {
      "cell_type": "code",
      "metadata": {
        "colab": {
          "base_uri": "https://localhost:8080/"
        },
        "id": "5YtEN_s6ZcYd",
        "outputId": "bc6f4f78-3b2f-4a5d-c10e-6d637d03044c"
      },
      "source": [
        "model.summary()"
      ],
      "execution_count": null,
      "outputs": [
        {
          "output_type": "stream",
          "text": [
            "Model: \"sequential_16\"\n",
            "_________________________________________________________________\n",
            "Layer (type)                 Output Shape              Param #   \n",
            "=================================================================\n",
            "dense_31 (Dense)             (None, 100)               1000      \n",
            "_________________________________________________________________\n",
            "dense_32 (Dense)             (None, 2)                 202       \n",
            "=================================================================\n",
            "Total params: 1,202\n",
            "Trainable params: 1,202\n",
            "Non-trainable params: 0\n",
            "_________________________________________________________________\n"
          ],
          "name": "stdout"
        }
      ]
    },
    {
      "cell_type": "code",
      "metadata": {
        "colab": {
          "base_uri": "https://localhost:8080/"
        },
        "id": "SUdiiqWWdcNC",
        "outputId": "ae1eb074-17d7-4a37-a90b-0325875feaf7"
      },
      "source": [
        "model.fit(X_train,Y_train,epochs=10,batch_size=100)"
      ],
      "execution_count": null,
      "outputs": [
        {
          "output_type": "stream",
          "text": [
            "Epoch 1/10\n",
            "774/774 [==============================] - 0s 231us/step - loss: 2.2116 - accuracy: 0.4289\n",
            "Epoch 2/10\n",
            "774/774 [==============================] - 0s 23us/step - loss: 1.1527 - accuracy: 0.4225\n",
            "Epoch 3/10\n",
            "774/774 [==============================] - 0s 23us/step - loss: 0.7854 - accuracy: 0.5026\n",
            "Epoch 4/10\n",
            "774/774 [==============================] - 0s 22us/step - loss: 0.6356 - accuracy: 0.6150\n",
            "Epoch 5/10\n",
            "774/774 [==============================] - 0s 21us/step - loss: 0.5925 - accuracy: 0.6615\n",
            "Epoch 6/10\n",
            "774/774 [==============================] - 0s 19us/step - loss: 0.5874 - accuracy: 0.6899\n",
            "Epoch 7/10\n",
            "774/774 [==============================] - 0s 20us/step - loss: 0.5532 - accuracy: 0.7028\n",
            "Epoch 8/10\n",
            "774/774 [==============================] - 0s 18us/step - loss: 0.5555 - accuracy: 0.7003\n",
            "Epoch 9/10\n",
            "774/774 [==============================] - 0s 20us/step - loss: 0.5152 - accuracy: 0.7183\n",
            "Epoch 10/10\n",
            "774/774 [==============================] - 0s 19us/step - loss: 0.4965 - accuracy: 0.7403\n"
          ],
          "name": "stdout"
        },
        {
          "output_type": "execute_result",
          "data": {
            "text/plain": [
              "<keras.callbacks.callbacks.History at 0x7f1752841048>"
            ]
          },
          "metadata": {
            "tags": []
          },
          "execution_count": 96
        }
      ]
    },
    {
      "cell_type": "code",
      "metadata": {
        "colab": {
          "base_uri": "https://localhost:8080/"
        },
        "id": "QbyCRM9QdPvV",
        "outputId": "7abadce3-8526-450c-feaa-24eccae3aa4e"
      },
      "source": [
        "loss, acc = model.evaluate(X_test,Y_test)\n",
        "acc"
      ],
      "execution_count": null,
      "outputs": [
        {
          "output_type": "stream",
          "text": [
            "194/194 [==============================] - 0s 667us/step\n"
          ],
          "name": "stdout"
        },
        {
          "output_type": "execute_result",
          "data": {
            "text/plain": [
              "0.7525773048400879"
            ]
          },
          "metadata": {
            "tags": []
          },
          "execution_count": 97
        }
      ]
    },
    {
      "cell_type": "code",
      "metadata": {
        "colab": {
          "base_uri": "https://localhost:8080/"
        },
        "id": "wBcVmYAhmXOO",
        "outputId": "44b5c2ea-ea8c-4f88-f714-9ea01caed924"
      },
      "source": [
        "history = model.fit(X_train,Y_train, epochs=10,\n",
        "                   batch_size=100,\n",
        "                   validation_data=(X_test,Y_test))\n",
        "\n",
        "acc = history.history['accuracy']\n",
        "val_acc = history.history['val_accuracy']\n",
        "loss = history.history['loss']\n",
        "val_loss = history.history['val_loss']\n",
        "\n",
        "epochs = range(1,len(acc)+1)"
      ],
      "execution_count": null,
      "outputs": [
        {
          "output_type": "stream",
          "text": [
            "Train on 774 samples, validate on 194 samples\n",
            "Epoch 1/10\n",
            "774/774 [==============================] - 0s 30us/step - loss: 0.4834 - accuracy: 0.7545 - val_loss: 0.4795 - val_accuracy: 0.7577\n",
            "Epoch 2/10\n",
            "774/774 [==============================] - 0s 26us/step - loss: 0.4783 - accuracy: 0.7558 - val_loss: 0.4871 - val_accuracy: 0.7320\n",
            "Epoch 3/10\n",
            "774/774 [==============================] - 0s 25us/step - loss: 0.4619 - accuracy: 0.7855 - val_loss: 0.4446 - val_accuracy: 0.8041\n",
            "Epoch 4/10\n",
            "774/774 [==============================] - 0s 22us/step - loss: 0.4514 - accuracy: 0.7817 - val_loss: 0.4261 - val_accuracy: 0.7990\n",
            "Epoch 5/10\n",
            "774/774 [==============================] - 0s 24us/step - loss: 0.4422 - accuracy: 0.7894 - val_loss: 0.4226 - val_accuracy: 0.8299\n",
            "Epoch 6/10\n",
            "774/774 [==============================] - 0s 23us/step - loss: 0.4365 - accuracy: 0.8165 - val_loss: 0.4108 - val_accuracy: 0.8299\n",
            "Epoch 7/10\n",
            "774/774 [==============================] - 0s 25us/step - loss: 0.4345 - accuracy: 0.8114 - val_loss: 0.4068 - val_accuracy: 0.8351\n",
            "Epoch 8/10\n",
            "774/774 [==============================] - 0s 24us/step - loss: 0.4306 - accuracy: 0.8010 - val_loss: 0.4089 - val_accuracy: 0.8247\n",
            "Epoch 9/10\n",
            "774/774 [==============================] - 0s 23us/step - loss: 0.4203 - accuracy: 0.7997 - val_loss: 0.3920 - val_accuracy: 0.8196\n",
            "Epoch 10/10\n",
            "774/774 [==============================] - 0s 27us/step - loss: 0.4133 - accuracy: 0.8049 - val_loss: 0.3961 - val_accuracy: 0.8299\n"
          ],
          "name": "stdout"
        }
      ]
    },
    {
      "cell_type": "code",
      "metadata": {
        "colab": {
          "base_uri": "https://localhost:8080/",
          "height": 626
        },
        "id": "68QrTaWfmqb0",
        "outputId": "2807b08d-28cc-4b3b-b1b9-f8bdb53cc7ab"
      },
      "source": [
        "plt.plot(epochs, acc,'b',label = 'Train Accuracy')\n",
        "plt.plot(epochs, val_acc,'r',label = 'Test Accuracy')\n",
        "plt.legend()\n",
        "plt.figure()\n",
        "plt.plot(epochs, loss,'b',label = 'Train Loss')\n",
        "plt.plot(epochs, val_loss,'r',label = 'Test Loss')\n",
        "plt.legend()\n",
        "plt.show()"
      ],
      "execution_count": null,
      "outputs": [
        {
          "output_type": "display_data",
          "data": {
            "image/png": "[encoded data removed]",
            "text/plain": [
              "<Figure size 360x360 with 1 Axes>"
            ]
          },
          "metadata": {
            "tags": [],
            "needs_background": "light"
          }
        },
        {
          "output_type": "display_data",
          "data": {
            "image/png": "[encoded data removed]",
            "text/plain": [
              "<Figure size 360x360 with 1 Axes>"
            ]
          },
          "metadata": {
            "tags": [],
            "needs_background": "light"
          }
        }
      ]
    },
    {
      "cell_type": "code",
      "metadata": {
        "colab": {
          "base_uri": "https://localhost:8080/"
        },
        "id": "eRNApg2TmiDe",
        "outputId": "9e2e24dd-c7a9-4941-c61e-eefcf3073581"
      },
      "source": [
        "predict = model.predict_classes(X_test)\n",
        "maxarg = np.argmax(Y_test, axis = 1)\n",
        "class_no = 2\n",
        "from sklearn.metrics import classification_report\n",
        "names = [\"Class {}\".format(i) for i in range(class_no)]\n",
        "print(classification_report(maxarg, predict, target_names=names))"
      ],
      "execution_count": null,
      "outputs": [
        {
          "output_type": "stream",
          "text": [
            "              precision    recall  f1-score   support\n",
            "\n",
            "     Class 0       0.90      0.67      0.77        82\n",
            "     Class 1       0.80      0.95      0.87       112\n",
            "\n",
            "    accuracy                           0.83       194\n",
            "   macro avg       0.85      0.81      0.82       194\n",
            "weighted avg       0.84      0.83      0.82       194\n",
            "\n"
          ],
          "name": "stdout"
        }
      ]
    },
    {
      "cell_type": "code",
      "metadata": {
        "colab": {
          "base_uri": "https://localhost:8080/",
          "height": 381
        },
        "id": "MqPBWqPm6t2z",
        "outputId": "bad4855e-c2ef-46ee-f574-22c15e6f746f"
      },
      "source": [
        "from sklearn.metrics import confusion_matrix\n",
        "import seaborn as sns\n",
        "Y_predict = model.predict(X_test)\n",
        "confu_mat = confusion_matrix(Y_predict,Y_test)\n",
        "plt.figure(figsize = (10,10))\n",
        "sns.heatmap(confu_mat, annot = True) "
      ],
      "execution_count": null,
      "outputs": [
        {
          "output_type": "error",
          "ename": "ValueError",
          "evalue": "ignored",
          "traceback": [
            "\u001b[0;31m---------------------------------------------------------------------------\u001b[0m",
            "\u001b[0;31mValueError\u001b[0m                                Traceback (most recent call last)",
            "\u001b[0;32m<ipython-input-103-925539589e7c>\u001b[0m in \u001b[0;36m<module>\u001b[0;34m()\u001b[0m\n\u001b[1;32m      2\u001b[0m \u001b[0;32mimport\u001b[0m \u001b[0mseaborn\u001b[0m \u001b[0;32mas\u001b[0m \u001b[0msns\u001b[0m\u001b[0;34m\u001b[0m\u001b[0;34m\u001b[0m\u001b[0m\n\u001b[1;32m      3\u001b[0m \u001b[0mY_predict\u001b[0m \u001b[0;34m=\u001b[0m \u001b[0mmodel\u001b[0m\u001b[0;34m.\u001b[0m\u001b[0mpredict\u001b[0m\u001b[0;34m(\u001b[0m\u001b[0mX_test\u001b[0m\u001b[0;34m)\u001b[0m\u001b[0;34m\u001b[0m\u001b[0;34m\u001b[0m\u001b[0m\n\u001b[0;32m----> 4\u001b[0;31m \u001b[0mconfu_mat\u001b[0m \u001b[0;34m=\u001b[0m \u001b[0mconfusion_matrix\u001b[0m\u001b[0;34m(\u001b[0m\u001b[0mY_predict\u001b[0m\u001b[0;34m,\u001b[0m\u001b[0mY_test\u001b[0m\u001b[0;34m)\u001b[0m\u001b[0;34m\u001b[0m\u001b[0;34m\u001b[0m\u001b[0m\n\u001b[0m\u001b[1;32m      5\u001b[0m \u001b[0mplt\u001b[0m\u001b[0;34m.\u001b[0m\u001b[0mfigure\u001b[0m\u001b[0;34m(\u001b[0m\u001b[0mfigsize\u001b[0m \u001b[0;34m=\u001b[0m \u001b[0;34m(\u001b[0m\u001b[0;36m10\u001b[0m\u001b[0;34m,\u001b[0m\u001b[0;36m10\u001b[0m\u001b[0;34m)\u001b[0m\u001b[0;34m)\u001b[0m\u001b[0;34m\u001b[0m\u001b[0;34m\u001b[0m\u001b[0m\n\u001b[1;32m      6\u001b[0m \u001b[0msns\u001b[0m\u001b[0;34m.\u001b[0m\u001b[0mheatmap\u001b[0m\u001b[0;34m(\u001b[0m\u001b[0mconfu_mat\u001b[0m\u001b[0;34m,\u001b[0m \u001b[0mannot\u001b[0m \u001b[0;34m=\u001b[0m \u001b[0;32mTrue\u001b[0m\u001b[0;34m)\u001b[0m\u001b[0;34m\u001b[0m\u001b[0;34m\u001b[0m\u001b[0m\n",
            "\u001b[0;32m/usr/local/lib/python3.6/dist-packages/sklearn/metrics/_classification.py\u001b[0m in \u001b[0;36mconfusion_matrix\u001b[0;34m(y_true, y_pred, labels, sample_weight, normalize)\u001b[0m\n\u001b[1;32m    266\u001b[0m \u001b[0;34m\u001b[0m\u001b[0m\n\u001b[1;32m    267\u001b[0m     \"\"\"\n\u001b[0;32m--> 268\u001b[0;31m     \u001b[0my_type\u001b[0m\u001b[0;34m,\u001b[0m \u001b[0my_true\u001b[0m\u001b[0;34m,\u001b[0m \u001b[0my_pred\u001b[0m \u001b[0;34m=\u001b[0m \u001b[0m_check_targets\u001b[0m\u001b[0;34m(\u001b[0m\u001b[0my_true\u001b[0m\u001b[0;34m,\u001b[0m \u001b[0my_pred\u001b[0m\u001b[0;34m)\u001b[0m\u001b[0;34m\u001b[0m\u001b[0;34m\u001b[0m\u001b[0m\n\u001b[0m\u001b[1;32m    269\u001b[0m     \u001b[0;32mif\u001b[0m \u001b[0my_type\u001b[0m \u001b[0;32mnot\u001b[0m \u001b[0;32min\u001b[0m \u001b[0;34m(\u001b[0m\u001b[0;34m\"binary\"\u001b[0m\u001b[0;34m,\u001b[0m \u001b[0;34m\"multiclass\"\u001b[0m\u001b[0;34m)\u001b[0m\u001b[0;34m:\u001b[0m\u001b[0;34m\u001b[0m\u001b[0;34m\u001b[0m\u001b[0m\n\u001b[1;32m    270\u001b[0m         \u001b[0;32mraise\u001b[0m \u001b[0mValueError\u001b[0m\u001b[0;34m(\u001b[0m\u001b[0;34m\"%s is not supported\"\u001b[0m \u001b[0;34m%\u001b[0m \u001b[0my_type\u001b[0m\u001b[0;34m)\u001b[0m\u001b[0;34m\u001b[0m\u001b[0;34m\u001b[0m\u001b[0m\n",
            "\u001b[0;32m/usr/local/lib/python3.6/dist-packages/sklearn/metrics/_classification.py\u001b[0m in \u001b[0;36m_check_targets\u001b[0;34m(y_true, y_pred)\u001b[0m\n\u001b[1;32m     88\u001b[0m     \u001b[0;32mif\u001b[0m \u001b[0mlen\u001b[0m\u001b[0;34m(\u001b[0m\u001b[0my_type\u001b[0m\u001b[0;34m)\u001b[0m \u001b[0;34m>\u001b[0m \u001b[0;36m1\u001b[0m\u001b[0;34m:\u001b[0m\u001b[0;34m\u001b[0m\u001b[0;34m\u001b[0m\u001b[0m\n\u001b[1;32m     89\u001b[0m         raise ValueError(\"Classification metrics can't handle a mix of {0} \"\n\u001b[0;32m---> 90\u001b[0;31m                          \"and {1} targets\".format(type_true, type_pred))\n\u001b[0m\u001b[1;32m     91\u001b[0m \u001b[0;34m\u001b[0m\u001b[0m\n\u001b[1;32m     92\u001b[0m     \u001b[0;31m# We can't have more than one value on y_type => The set is no more needed\u001b[0m\u001b[0;34m\u001b[0m\u001b[0;34m\u001b[0m\u001b[0;34m\u001b[0m\u001b[0m\n",
            "\u001b[0;31mValueError\u001b[0m: Classification metrics can't handle a mix of continuous-multioutput and multilabel-indicator targets"
          ]
        }
      ]
    }
  ]
}